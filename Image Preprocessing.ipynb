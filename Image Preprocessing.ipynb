{
 "cells": [
  {
   "cell_type": "markdown",
   "metadata": {},
   "source": [
    "# Image Preprocessing\n",
    "\n",
    "On this notebook you can find the image preprocessing to be loaded into the model.\n",
    "\n",
    "Steps for the image preprocessing: \n",
    "1. Collect images \n",
    "2. Setup Folders\n",
    "3. Image Labeling  \n",
    "\n",
    "    3.1. Download the labelImg by tzutalin    \n",
    "    3.2. Label all the image using the labelImg     \n",
    "    3.3 Split into train and test    \n",
    "    \n",
    "    \n",
    "4. Compress images"
   ]
  },
  {
   "cell_type": "code",
   "execution_count": 1,
   "metadata": {
    "ExecuteTime": {
     "end_time": "2021-05-08T08:51:40.115800Z",
     "start_time": "2021-05-08T08:51:40.105726Z"
    }
   },
   "outputs": [],
   "source": [
    "# Importing Dependencies\n",
    "\n",
    "# Import Operating System to create folders\n",
    "import os\n",
    "import shutil\n",
    "\n",
    "# Import time\n",
    "import time\n",
    "\n",
    "# Use mathematical formulas\n",
    "import math"
   ]
  },
  {
   "cell_type": "markdown",
   "metadata": {},
   "source": [
    "## 1. Collect Images\n",
    "\n",
    "On this we are going to collect images to train and test our model. For this project there will be 5 classes of different drinks. This images are going to be stored on the TensorFlow->workspace->images->collectedimages\n",
    "* Redbull\n",
    "* Coca-cola\n",
    "* Coca-cola Zero\n",
    "* Coca-cola light\n",
    "* Pepsi\n",
    "* Pepsi Max\n",
    "* 7-up\n",
    "* Ice-tea\n",
    "* TODO: Choose 5 from those"
   ]
  },
  {
   "cell_type": "code",
   "execution_count": null,
   "metadata": {},
   "outputs": [],
   "source": [
    "# Labels of the images\n",
    "labels = ['Redbull', 'CocaCola', 'Pepsi', 'SevenUp', 'IceTeaLemon']\n",
    "number_classes = len(labels)"
   ]
  },
  {
   "cell_type": "markdown",
   "metadata": {},
   "source": [
    "## 2. Setup Folders\n",
    "\n",
    "Create a the folder to save the images collected. Sub-folder created for each class\n"
   ]
  },
  {
   "cell_type": "code",
   "execution_count": null,
   "metadata": {},
   "outputs": [],
   "source": [
    "images_collected_path  = os.path.join('Tensorflow', 'workspace', 'images', 'collectedimages')\n",
    "images_root_path  = os.path.join('Tensorflow', 'workspace', 'images')\n",
    "\n",
    "# Training and test Paths\n",
    "train_path = os.path.join('Tensorflow', 'workspace', 'images', 'train')\n",
    "test_path = os.path.join('Tensorflow', 'workspace', 'images', 'test')"
   ]
  },
  {
   "cell_type": "code",
   "execution_count": null,
   "metadata": {},
   "outputs": [],
   "source": [
    "# Create folder collectedimages\n",
    "if not os.path.exists(images_collected_path):\n",
    "    if os.name == 'posix':\n",
    "        !mkdir -p {images_collected_path}\n",
    "    if os.name == 'nt':\n",
    "         !mkdir {images_collected_path}\n",
    "\n",
    "# Create folders for the difrent classes\n",
    "for label in labels:\n",
    "    path = os.path.join(images_collected_path, label)\n",
    "    if not os.path.exists(path):\n",
    "        !mkdir {path}\n",
    "        \n",
    "# Create folders train, test sets\n",
    "for split_set in ['test', 'train']:\n",
    "    path = os.path.join(images_root_path, split_set)\n",
    "    if not os.path.exists(path):\n",
    "        !mkdir {path}"
   ]
  },
  {
   "cell_type": "markdown",
   "metadata": {},
   "source": [
    "## 3. Image Labeling"
   ]
  },
  {
   "cell_type": "markdown",
   "metadata": {},
   "source": [
    "### 3.1. Download labelImg"
   ]
  },
  {
   "cell_type": "code",
   "execution_count": null,
   "metadata": {},
   "outputs": [],
   "source": [
    "# Install dependencies\n",
    "!pip install --upgrade pyqt5 lxml"
   ]
  },
  {
   "cell_type": "code",
   "execution_count": null,
   "metadata": {},
   "outputs": [],
   "source": [
    "# Create labeleing path\n",
    "labeling_path = os.path.join('Tensorflow', 'labelimg')\n",
    "\n",
    "# Download the labelImg if there is no folder \n",
    "if not os.path.exists(LABELIMG_PATH):\n",
    "    !mkdir {LABELIMG_PATH}\n",
    "    !git clone https://github.com/tzutalin/labelImg {LABELIMG_PATH}\n",
    "        \n",
    "# Move to the resouces folder\n",
    "if os.name == 'posix':\n",
    "    !make qt5py3\n",
    "if os.name =='nt':\n",
    "    !cd {LABELIMG_PATH} && pyrcc5 -o libs/resources.py resources.qrc"
   ]
  },
  {
   "cell_type": "markdown",
   "metadata": {},
   "source": [
    "### 3.2. Label the Images"
   ]
  },
  {
   "cell_type": "code",
   "execution_count": null,
   "metadata": {},
   "outputs": [],
   "source": [
    "# Open the labelImg\n",
    "!cd {LABELIMG_PATH} && python labelImg.py"
   ]
  },
  {
   "cell_type": "markdown",
   "metadata": {},
   "source": [
    "### 3.3 Split into train and test\n",
    "\n",
    "Split the collected data into:\n",
    "* **Train set** 80%\n",
    "* **Test set** 20%"
   ]
  },
  {
   "cell_type": "code",
   "execution_count": null,
   "metadata": {},
   "outputs": [],
   "source": [
    "def split_train_test(images_collected_path=images_collected_path, \n",
    "                     train_path=train_path,\n",
    "                     test_path=test_path,\n",
    "                     split_train_size=0.8):\n",
    "    \"\"\"\n",
    "    This function is going to move the file into the test and train folders according with the split_size\n",
    "    \"\"\" \n",
    "    \n",
    "    def round_up_to_even(f): return math.ceil(f / 2.) * 2\n",
    "\n",
    "    for i in os.listdir(images_collected_path):\n",
    "        counter = 0\n",
    "        subfolder_path = os.path.join(images_collected_path, i)       \n",
    "        collected_image_size = len([name for name in os.listdir(subfolder_path)])\n",
    "        train_number = round_up_to_even(collected_image_size * split_train_size)\n",
    "\n",
    "        for root, dirs, files in os.walk(subfolder_path, topdown=False):             \n",
    "            for file in files:\n",
    "                counter += 1         \n",
    "                \n",
    "                # Define new paths\n",
    "                old_path = os.path.join(root, file)\n",
    "                new_path_train = os.path.join(train_path, file)\n",
    "                new_path_test = os.path.join(test_path, file)\n",
    "    \n",
    "                if counter <= train_number: shutil.move(old_path, new_path_train)\n",
    "                else: shutil.move(old_path, new_path_test)\n",
    "\n",
    "        print(f'Folder: {i}\\n\\\n",
    "        Train number: {train_number}\\n\\\n",
    "        Test number: {collected_image_size-train_number}\\n\\\n",
    "        Number of files {counter}', end='\\n\\n')    "
   ]
  },
  {
   "cell_type": "code",
   "execution_count": null,
   "metadata": {},
   "outputs": [],
   "source": [
    "# Split the data into train and test folders\n",
    "split_train_test()"
   ]
  },
  {
   "cell_type": "markdown",
   "metadata": {},
   "source": [
    "## 4. Compress images\n",
    "\n",
    "Compress the images to load load them in Google Colab"
   ]
  },
  {
   "cell_type": "code",
   "execution_count": null,
   "metadata": {},
   "outputs": [],
   "source": [
    "!tar -czf {ARCHIVE_PATH} {TRAIN_PATH} {TEST_PATH}"
   ]
  }
 ],
 "metadata": {
  "hide_input": false,
  "kernelspec": {
   "display_name": "tfod",
   "language": "python",
   "name": "tfod"
  },
  "language_info": {
   "codemirror_mode": {
    "name": "ipython",
    "version": 3
   },
   "file_extension": ".py",
   "mimetype": "text/x-python",
   "name": "python",
   "nbconvert_exporter": "python",
   "pygments_lexer": "ipython3",
   "version": "3.7.7"
  },
  "toc": {
   "base_numbering": 1,
   "nav_menu": {},
   "number_sections": false,
   "sideBar": true,
   "skip_h1_title": true,
   "title_cell": "Table of Contents",
   "title_sidebar": "Contents",
   "toc_cell": false,
   "toc_position": {},
   "toc_section_display": true,
   "toc_window_display": true
  },
  "varInspector": {
   "cols": {
    "lenName": 16,
    "lenType": 16,
    "lenVar": 40
   },
   "kernels_config": {
    "python": {
     "delete_cmd_postfix": "",
     "delete_cmd_prefix": "del ",
     "library": "var_list.py",
     "varRefreshCmd": "print(var_dic_list())"
    },
    "r": {
     "delete_cmd_postfix": ") ",
     "delete_cmd_prefix": "rm(",
     "library": "var_list.r",
     "varRefreshCmd": "cat(var_dic_list()) "
    }
   },
   "types_to_exclude": [
    "module",
    "function",
    "builtin_function_or_method",
    "instance",
    "_Feature"
   ],
   "window_display": false
  }
 },
 "nbformat": 4,
 "nbformat_minor": 4
}
